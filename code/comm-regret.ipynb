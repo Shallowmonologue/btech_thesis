{
 "cells": [
  {
   "cell_type": "code",
   "execution_count": 1,
   "metadata": {
    "_cell_guid": "b1076dfc-b9ad-4769-8c92-a6c4dae69d19",
    "_uuid": "8f2839f25d086af736a60e9eeb907d3b93b6e0e5",
    "execution": {
     "iopub.execute_input": "2021-08-23T10:49:27.956719Z",
     "iopub.status.busy": "2021-08-23T10:49:27.956276Z",
     "iopub.status.idle": "2021-08-23T10:49:27.971738Z",
     "shell.execute_reply": "2021-08-23T10:49:27.970731Z",
     "shell.execute_reply.started": "2021-08-23T10:49:27.956683Z"
    },
    "ExecuteTime": {
     "end_time": "2023-07-10T02:14:06.613417500Z",
     "start_time": "2023-07-10T02:14:06.598417400Z"
    }
   },
   "outputs": [
    {
     "name": "stdout",
     "output_type": "stream",
     "text": [
      "./kaggle/input\\Email-Enron.txt\n",
      "./kaggle/input\\bio-DM-LC\\bio-DM-LC.txt\n",
      "./kaggle/input\\econ-wm1\\econ-wm1.txt\n",
      "./kaggle/input\\fb-pages-food\\fb-pages-food.edges\n",
      "./kaggle/input\\fb-pages-food\\fb-pages-food.nodes\n",
      "./kaggle/input\\ia-enron-only\\ia-enron-only.txt\n"
     ]
    }
   ],
   "source": [
    "# This Python 3 environment comes with many helpful analytics libraries installed\n",
    "# It is defined by the kaggle/python Docker image: https://github.com/kaggle/docker-python\n",
    "# For example, here's several helpful packages to load\n",
    "\n",
    "import numpy as np # linear algebra\n",
    "import pandas as pd # data processing, CSV file I/O (e.g. pd.read_csv)\n",
    "\n",
    "# Input data files are available in the read-only \"../input/\" directory\n",
    "# For example, running this (by clicking run or pressing Shift+Enter) will list all files under the input directory\n",
    "\n",
    "import os\n",
    "for dirname, _, filenames in os.walk('./kaggle/input'):\n",
    "    for filename in filenames:\n",
    "        print(os.path.join(dirname, filename))\n",
    "\n",
    "# You can write up to 5GB to the current directory (/kaggle/working/) that gets preserved as output when you create a version using \"Save & Run All\" \n",
    "# You can also write temporary files to /kaggle/temp/, but they won't be saved outside of the current session"
   ]
  },
  {
   "cell_type": "code",
   "execution_count": 2,
   "metadata": {
    "_cell_guid": "79c7e3d0-c299-4dcb-8224-4455121ee9b0",
    "_uuid": "d629ff2d2480ee46fbb7e2d37f6b5fab8052498a",
    "execution": {
     "iopub.execute_input": "2021-08-23T10:49:27.974744Z",
     "iopub.status.busy": "2021-08-23T10:49:27.974394Z",
     "iopub.status.idle": "2021-08-23T10:49:27.984194Z",
     "shell.execute_reply": "2021-08-23T10:49:27.983173Z",
     "shell.execute_reply.started": "2021-08-23T10:49:27.974709Z"
    },
    "scrolled": false,
    "ExecuteTime": {
     "end_time": "2023-07-10T02:14:06.851531Z",
     "start_time": "2023-07-10T02:14:06.614417300Z"
    }
   },
   "outputs": [],
   "source": [
    "import networkx as nx\n",
    "import community\n",
    "import matplotlib.pyplot as plt\n",
    "from sklearn.metrics.cluster import normalized_mutual_info_score\n"
   ]
  },
  {
   "cell_type": "code",
   "execution_count": 3,
   "metadata": {
    "execution": {
     "iopub.execute_input": "2021-08-23T10:49:27.986201Z",
     "iopub.status.busy": "2021-08-23T10:49:27.985859Z",
     "iopub.status.idle": "2021-08-23T10:49:28.020537Z",
     "shell.execute_reply": "2021-08-23T10:49:28.019576Z",
     "shell.execute_reply.started": "2021-08-23T10:49:27.986169Z"
    },
    "ExecuteTime": {
     "end_time": "2023-07-10T02:14:06.883670700Z",
     "start_time": "2023-07-10T02:14:06.852531Z"
    }
   },
   "outputs": [],
   "source": [
    "## Main Code\n",
    "\n",
    "def utility(node_i,S, G):\n",
    "    total_utility = 0\n",
    "    k_i = G.degree[node_i]\n",
    "    for node_j in S:\n",
    "        if node_i != node_j:\n",
    "            curr_edges = A[node_i][node_j]\n",
    "\n",
    "            k_j = G.degree[node_j]\n",
    "            m = G.number_of_edges()\n",
    "            degree_prod = (k_i*k_j)/(2.0*m)\n",
    "\n",
    "            indiv_utility = curr_edges - degree_prod\n",
    "            total_utility += indiv_utility\n",
    "    return total_utility\n",
    "\n",
    "\n",
    "def internalCommunityEdges(nodes_list, community_label):\n",
    "    internaledges = 0\n",
    "    for node in nodes_list:\n",
    "        p = len(np.where(S[[n for n in G.neighbors(node)]] == community_label)[0])\n",
    "        #print(node)\n",
    "        internaledges += p\n",
    "    \n",
    "    inter = internaledges/(2.0)\n",
    "    return inter\n",
    "\n",
    "\n",
    "def community_ext(nodes_list):\n",
    "    unique_external_nodes = []\n",
    "    total_sum = 0\n",
    "    community_label = S[nodes_list[0]]\n",
    "    total_connections = 0\n",
    "    totalExternalNodeDegree = 0\n",
    "    for nod in nodes_list:\n",
    "        #neighbors of node in that community       \n",
    "        for neig in G[nod]:\n",
    "            # external node\n",
    "            if S[neig] != S[nod]:\n",
    "                if neig not in unique_external_nodes:\n",
    "                    unique_external_nodes.append(neig)\n",
    "                total_connections += 1\n",
    "                \n",
    "    communityDegree = len(unique_external_nodes)\n",
    "    for externalNode in unique_external_nodes:\n",
    "        totalExternalNodeDegree += G.degree(externalNode)\n",
    "        \n",
    "    \n",
    "    totalCommunityEdges = totalEdges - internalCommunityEdges(nodes_list, community_label)\n",
    "    modularityComm = total_connections - ((totalExternalNodeDegree*communityDegree)/(2.0 * totalCommunityEdges))\n",
    "    modularityComm = modularityComm/(2.0 * totalCommunityEdges)\n",
    "    return modularityComm\n",
    "\n",
    "\n",
    "def join(node_i,S, G, lamda, probabilities):\n",
    "    max_utility = []\n",
    "    community_toJoin = []\n",
    "    currentCommunity = S[node_i]\n",
    "    currentCommunity_nodes_list = np.where(S == currentCommunity)[0]\n",
    "    \n",
    "    loss = utility(node_i, currentCommunity_nodes_list, G)\n",
    "    #print(loss)\n",
    "    for neighbor in G[node_i]:\n",
    "        community_label = S[neighbor]\n",
    "        community_toJoin.append(community_label)\n",
    "        nodes_list = np.where(S == community_label)[0]\n",
    "        gain = utility(node_i, nodes_list, G)\n",
    "        \n",
    "        community_label = S[neighbor]\n",
    "#         print(community_label)\n",
    "        #community_toJoin.append(community_label)\n",
    "        same_community_nodes_list = np.where(S == community_label)[0]\n",
    "        other = community_ext(same_community_nodes_list)\n",
    "        val = lamda*(gain-loss) + (1-lamda)*(other)\n",
    "        max_utility.append(val)\n",
    "        #print(nodes_list)\n",
    "    \n",
    "    maximum_utility_val = max(max_utility)\n",
    "    if(maximum_utility_val) >0:\n",
    "        probabilities[node_i] *= (1-lamda)\n",
    "    maxUtilityIndex = max_utility.index(maximum_utility_val)\n",
    "    communityIndex = community_toJoin[maxUtilityIndex]\n",
    "    #print(communityIndex)\n",
    "    \n",
    "    #update the community for node_i\n",
    "    S[node_i] = communityIndex\n",
    "    return S\n",
    "\n",
    "\n",
    "from sklearn.metrics.cluster import normalized_mutual_info_score\n",
    "\n",
    "def partitionModularity(mod_list,G):\n",
    "    totalModularity = 0\n",
    "    for node_i in range(G.number_of_nodes()):\n",
    "        totalModularity += utility(node_i,np.where(mod_list==mod_list[node_i])[0],G)\n",
    "    return (totalModularity/(G.number_of_edges()*2.0))\n",
    "\n",
    "from tqdm.auto import tqdm\n",
    "\n",
    "def communityDetect(S,G, nIter, LAMBDA = 1):\n",
    "    total_nodes = G.number_of_nodes()\n",
    "    i = 0\n",
    "    prev_S = initial_S\n",
    "    val = []\n",
    "#   while(i<nIter):\n",
    "    for _ in tqdm(range(nIter)):\n",
    "#         print(\"Iteration No. : \", i+1)\n",
    "        probab = np.array(probabilities)\n",
    "        probab /= probab.sum()\n",
    "        random_node = choice(nodesList, 1, p=probab)\n",
    "        S = join(random_node[0], S, G, LAMBDA, probab)\n",
    "        val.append(partitionModularity(S,G))\n",
    "        prev_S = S      \n",
    "#         i += 1\n",
    "        \n",
    "    return val, prev_S\n",
    "        "
   ]
  },
  {
   "cell_type": "markdown",
   "metadata": {},
   "source": [
    "# Bio DM-LC Dataset"
   ]
  },
  {
   "cell_type": "code",
   "execution_count": 4,
   "metadata": {
    "execution": {
     "iopub.execute_input": "2021-08-23T10:49:28.023279Z",
     "iopub.status.busy": "2021-08-23T10:49:28.022795Z",
     "iopub.status.idle": "2021-08-23T10:49:28.061933Z",
     "shell.execute_reply": "2021-08-23T10:49:28.060826Z",
     "shell.execute_reply.started": "2021-08-23T10:49:28.023229Z"
    },
    "ExecuteTime": {
     "end_time": "2023-07-10T02:14:06.898670100Z",
     "start_time": "2023-07-10T02:14:06.884670300Z"
    }
   },
   "outputs": [
    {
     "name": "stdout",
     "output_type": "stream",
     "text": [
      "Name: \n",
      "Type: Graph\n",
      "Number of nodes: 658\n",
      "Number of edges: 1129\n",
      "Average degree:   3.4316\n"
     ]
    }
   ],
   "source": [
    "import networkx as nx\n",
    "import pandas as pd\n",
    "\n",
    "l1 = []\n",
    "l2 = []\n",
    "file = open('./kaggle/input/bio-DM-LC/bio-DM-LC.txt')\n",
    "\n",
    "for line in file:\n",
    "    l1.append(int(line.split()[0]))\n",
    "    l2.append(int(line.split()[1]))\n",
    "\n",
    "df = pd.DataFrame()\n",
    "df[1] = l1\n",
    "df[2] = l2\n",
    "\n",
    "G = nx.Graph()\n",
    "G = nx.from_pandas_edgelist(df, 1, 2)\n",
    "\n",
    "mapping  = {} \n",
    "i = 0\n",
    "for node in G.nodes:\n",
    "    mapping[node] = i\n",
    "    i += 1\n",
    "    \n",
    "    \n",
    "G=nx.relabel_nodes(G,mapping)\n",
    "\n",
    "print(nx.info(G))"
   ]
  },
  {
   "cell_type": "code",
   "execution_count": 5,
   "metadata": {
    "execution": {
     "iopub.execute_input": "2021-08-23T10:49:28.064878Z",
     "iopub.status.busy": "2021-08-23T10:49:28.064563Z",
     "iopub.status.idle": "2021-08-23T10:49:28.162161Z",
     "shell.execute_reply": "2021-08-23T10:49:28.161264Z",
     "shell.execute_reply.started": "2021-08-23T10:49:28.064846Z"
    },
    "scrolled": false,
    "ExecuteTime": {
     "end_time": "2023-07-10T02:14:06.947670700Z",
     "start_time": "2023-07-10T02:14:06.913670Z"
    }
   },
   "outputs": [
    {
     "data": {
      "text/plain": "0.8137506952938122"
     },
     "execution_count": 5,
     "metadata": {},
     "output_type": "execute_result"
    }
   ],
   "source": [
    "part = community.best_partition(G)\n",
    "community.modularity(part, G)"
   ]
  },
  {
   "cell_type": "code",
   "execution_count": 6,
   "metadata": {
    "scrolled": true,
    "ExecuteTime": {
     "end_time": "2023-07-10T02:14:08.284645100Z",
     "start_time": "2023-07-10T02:14:06.948670100Z"
    }
   },
   "outputs": [
    {
     "name": "stdout",
     "output_type": "stream",
     "text": [
      "Looking in indexes: https://pypi.tuna.tsinghua.edu.cn/simple\n",
      "Collecting community\n",
      "  Using cached community-1.0.0b1-py3-none-any.whl\n",
      "Requirement already satisfied: Flask in d:\\application\\anaconda3\\envs\\game_theory\\lib\\site-packages (from community) (2.0.3)\n",
      "Requirement already satisfied: requests in d:\\application\\anaconda3\\envs\\game_theory\\lib\\site-packages (from community) (2.27.1)\n",
      "Requirement already satisfied: click>=7.1.2 in d:\\application\\anaconda3\\envs\\game_theory\\lib\\site-packages (from Flask->community) (8.0.4)\n",
      "Requirement already satisfied: itsdangerous>=2.0 in d:\\application\\anaconda3\\envs\\game_theory\\lib\\site-packages (from Flask->community) (2.0.1)\n",
      "Requirement already satisfied: Werkzeug>=2.0 in d:\\application\\anaconda3\\envs\\game_theory\\lib\\site-packages (from Flask->community) (2.0.3)\n",
      "Requirement already satisfied: Jinja2>=3.0 in d:\\application\\anaconda3\\envs\\game_theory\\lib\\site-packages (from Flask->community) (3.0.3)\n",
      "Requirement already satisfied: colorama in d:\\application\\anaconda3\\envs\\game_theory\\lib\\site-packages (from click>=7.1.2->Flask->community) (0.4.5)\n",
      "Requirement already satisfied: importlib-metadata in d:\\application\\anaconda3\\envs\\game_theory\\lib\\site-packages (from click>=7.1.2->Flask->community) (4.8.3)\n",
      "Requirement already satisfied: MarkupSafe>=2.0 in d:\\application\\anaconda3\\envs\\game_theory\\lib\\site-packages (from Jinja2>=3.0->Flask->community) (2.0.1)\n",
      "Requirement already satisfied: dataclasses in d:\\application\\anaconda3\\envs\\game_theory\\lib\\site-packages (from Werkzeug>=2.0->Flask->community) (0.8)\n",
      "Requirement already satisfied: zipp>=0.5 in d:\\application\\anaconda3\\envs\\game_theory\\lib\\site-packages (from importlib-metadata->click>=7.1.2->Flask->community) (3.6.0)\n",
      "Requirement already satisfied: typing-extensions>=3.6.4 in d:\\application\\anaconda3\\envs\\game_theory\\lib\\site-packages (from importlib-metadata->click>=7.1.2->Flask->community) (4.1.1)\n",
      "Requirement already satisfied: urllib3<1.27,>=1.21.1 in d:\\application\\anaconda3\\envs\\game_theory\\lib\\site-packages (from requests->community) (1.26.16)\n",
      "Requirement already satisfied: charset-normalizer~=2.0.0 in d:\\application\\anaconda3\\envs\\game_theory\\lib\\site-packages (from requests->community) (2.0.12)\n",
      "Requirement already satisfied: certifi>=2017.4.17 in d:\\application\\anaconda3\\envs\\game_theory\\lib\\site-packages (from requests->community) (2021.5.30)\n",
      "Requirement already satisfied: idna<4,>=2.5 in d:\\application\\anaconda3\\envs\\game_theory\\lib\\site-packages (from requests->community) (3.4)\n",
      "Installing collected packages: community\n",
      "Successfully installed community-1.0.0b1\n",
      "Note: you may need to restart the kernel to use updated packages.\n"
     ]
    }
   ],
   "source": [
    "pip install community"
   ]
  },
  {
   "cell_type": "code",
   "execution_count": 7,
   "metadata": {
    "execution": {
     "iopub.execute_input": "2021-08-23T10:49:28.164375Z",
     "iopub.status.busy": "2021-08-23T10:49:28.163870Z",
     "iopub.status.idle": "2021-08-23T10:55:40.780870Z",
     "shell.execute_reply": "2021-08-23T10:55:40.779909Z",
     "shell.execute_reply.started": "2021-08-23T10:49:28.164338Z"
    },
    "ExecuteTime": {
     "start_time": "2023-07-10T02:14:08.286641500Z"
    }
   },
   "outputs": [
    {
     "data": {
      "text/plain": "  0%|          | 0/1000 [00:00<?, ?it/s]",
      "application/vnd.jupyter.widget-view+json": {
       "version_major": 2,
       "version_minor": 0,
       "model_id": "83a08a6cb6c24cc8b55ed618c874b895"
      }
     },
     "metadata": {},
     "output_type": "display_data"
    },
    {
     "name": "stdout",
     "output_type": "stream",
     "text": [
      "Partition Modularity = 0.40007147110441327\n",
      "Wall time: 1min 47s\n"
     ]
    }
   ],
   "source": [
    "%%time\n",
    "\n",
    "from random import choice\n",
    "import random\n",
    "\n",
    "totalEdges = G.number_of_edges()\n",
    "totalNodes= G.number_of_nodes()\n",
    "A = nx.to_numpy_array(G)\n",
    "S = np.array([(\"C\" + str(i)) for i in range(G.number_of_nodes())])\n",
    "\n",
    "initial_S = np.array([(\"C\" + str(i)) for i in range(G.number_of_nodes())])\n",
    "nodesList = [node_k for node_k in range(G.number_of_nodes())]\n",
    "\n",
    "from numpy.random import choice\n",
    "probabilities = [float(1/(G.number_of_nodes()*1.0)) for i in range(G.number_of_nodes())]\n",
    "\n",
    "value_lambda_point2 = communityDetect(S,G,nIter = 1000,LAMBDA = 0.2)\n",
    "\n",
    "print('Partition Modularity = '+ str(partitionModularity(S,G)))"
   ]
  },
  {
   "cell_type": "code",
   "execution_count": 8,
   "metadata": {
    "execution": {
     "iopub.execute_input": "2021-08-23T10:55:40.782542Z",
     "iopub.status.busy": "2021-08-23T10:55:40.782246Z",
     "iopub.status.idle": "2021-08-23T11:02:08.080666Z",
     "shell.execute_reply": "2021-08-23T11:02:08.079612Z",
     "shell.execute_reply.started": "2021-08-23T10:55:40.782509Z"
    }
   },
   "outputs": [
    {
     "data": {
      "text/plain": "  0%|          | 0/1000 [00:00<?, ?it/s]",
      "application/vnd.jupyter.widget-view+json": {
       "version_major": 2,
       "version_minor": 0,
       "model_id": "73467806eadc405893a48b00db5132b6"
      }
     },
     "metadata": {},
     "output_type": "display_data"
    },
    {
     "name": "stdout",
     "output_type": "stream",
     "text": [
      "Partition Modularity = 0.42041641528869744\n",
      "Wall time: 1min 39s\n"
     ]
    }
   ],
   "source": [
    "%%time\n",
    "\n",
    "from random import choice\n",
    "import random\n",
    "\n",
    "totalEdges = G.number_of_edges()\n",
    "totalNodes= G.number_of_nodes()\n",
    "A = nx.to_numpy_array(G)\n",
    "S = np.array([(\"C\" + str(i)) for i in range(G.number_of_nodes())])\n",
    "initial_S = np.array([(\"C\" + str(i)) for i in range(G.number_of_nodes())])\n",
    "nodesList = [node_k for node_k in range(G.number_of_nodes())]\n",
    "\n",
    "from numpy.random import choice\n",
    "probabilities = [float(1/(G.number_of_nodes()*1.0)) for i in range(G.number_of_nodes())]\n",
    "\n",
    "value_lambda_point8 = communityDetect(S,G,nIter = 1000,LAMBDA = 0.8)\n",
    "\n",
    "print('Partition Modularity = '+ str(partitionModularity(S, G)))"
   ]
  },
  {
   "cell_type": "code",
   "execution_count": 9,
   "metadata": {
    "execution": {
     "iopub.execute_input": "2021-08-23T11:02:08.082276Z",
     "iopub.status.busy": "2021-08-23T11:02:08.081944Z",
     "iopub.status.idle": "2021-08-23T11:08:08.963789Z",
     "shell.execute_reply": "2021-08-23T11:08:08.962859Z",
     "shell.execute_reply.started": "2021-08-23T11:02:08.082245Z"
    }
   },
   "outputs": [
    {
     "data": {
      "text/plain": "  0%|          | 0/1000 [00:00<?, ?it/s]",
      "application/vnd.jupyter.widget-view+json": {
       "version_major": 2,
       "version_minor": 0,
       "model_id": "8f55419b5f7a4752a1f0efb0c5156ce0"
      }
     },
     "metadata": {},
     "output_type": "display_data"
    },
    {
     "name": "stdout",
     "output_type": "stream",
     "text": [
      "Partition Modularity = 0.43909226205653185\n",
      "Wall time: 1min 58s\n"
     ]
    }
   ],
   "source": [
    "%%time\n",
    "\n",
    "from random import choice\n",
    "import random\n",
    "\n",
    "totalEdges = G.number_of_edges()\n",
    "totalNodes= G.number_of_nodes()\n",
    "A = nx.to_numpy_array(G)\n",
    "S = np.array([(\"C\" + str(i)) for i in range(G.number_of_nodes())])\n",
    "initial_S = np.array([(\"C\" + str(i)) for i in range(G.number_of_nodes())])\n",
    "nodesList = [node_k for node_k in range(G.number_of_nodes())]\n",
    "\n",
    "from numpy.random import choice\n",
    "probabilities = [float(1/(G.number_of_nodes()*1.0)) for i in range(G.number_of_nodes())]\n",
    "\n",
    "value_lambda_1 = communityDetect(S,G,nIter = 1000,LAMBDA = 1)\n",
    "\n",
    "print('Partition Modularity = '+ str(partitionModularity(S, G)))"
   ]
  },
  {
   "cell_type": "code",
   "execution_count": 10,
   "metadata": {
    "execution": {
     "iopub.execute_input": "2021-08-23T11:08:08.965152Z",
     "iopub.status.busy": "2021-08-23T11:08:08.964886Z",
     "iopub.status.idle": "2021-08-23T11:08:09.705059Z",
     "shell.execute_reply": "2021-08-23T11:08:09.703933Z",
     "shell.execute_reply.started": "2021-08-23T11:08:08.965126Z"
    }
   },
   "outputs": [
    {
     "name": "stderr",
     "output_type": "stream",
     "text": [
      "D:\\Application\\anaconda3\\envs\\game_theory\\lib\\site-packages\\seaborn\\_decorators.py:43: FutureWarning: Pass the following variables as keyword args: x, y. From version 0.12, the only valid positional argument will be `data`, and passing other arguments without an explicit keyword will result in an error or misinterpretation.\n",
      "  FutureWarning\n",
      "D:\\Application\\anaconda3\\envs\\game_theory\\lib\\site-packages\\seaborn\\_decorators.py:43: FutureWarning: Pass the following variables as keyword args: x, y. From version 0.12, the only valid positional argument will be `data`, and passing other arguments without an explicit keyword will result in an error or misinterpretation.\n",
      "  FutureWarning\n"
     ]
    },
    {
     "data": {
      "text/plain": "<Figure size 432x288 with 1 Axes>",
      "image/png": "[encoded data removed]"
     },
     "metadata": {
      "image/png": {
       "width": 430,
       "height": 281
      }
     },
     "output_type": "display_data"
    }
   ],
   "source": [
    "import seaborn as sns \n",
    "\n",
    "plt.style.use('fivethirtyeight')\n",
    "%config InlineBackend.figure_format = 'retina'\n",
    "%matplotlib inline\n",
    "\n",
    "sns.set(style = 'whitegrid')\n",
    "plt.title(\"Bio-DM-LC Dataset\")\n",
    "sns.lineplot([i for i in range(len(value_lambda_point2[0]))] , value_lambda_point2[0],  label=\"lambda 0.2\")\n",
    "sns.lineplot([i for i in range(len(value_lambda_point8[0]))] , value_lambda_point8[0],  label=\"lambda 0.8\")\n",
    " \n",
    "plt.xlabel(\"No. of iterations\")\n",
    "plt.ylabel(\"Modularity Value\")\n",
    "plt.legend() \n",
    "# plt.show()\n",
    "plt.savefig(\"Bio-DM-LC_1.svg\")"
   ]
  },
  {
   "cell_type": "code",
   "execution_count": 11,
   "metadata": {
    "execution": {
     "iopub.execute_input": "2021-08-23T11:08:09.707203Z",
     "iopub.status.busy": "2021-08-23T11:08:09.706788Z",
     "iopub.status.idle": "2021-08-23T11:08:10.442167Z",
     "shell.execute_reply": "2021-08-23T11:08:10.441132Z",
     "shell.execute_reply.started": "2021-08-23T11:08:09.707167Z"
    }
   },
   "outputs": [
    {
     "name": "stderr",
     "output_type": "stream",
     "text": [
      "D:\\Application\\anaconda3\\envs\\game_theory\\lib\\site-packages\\seaborn\\_decorators.py:43: FutureWarning: Pass the following variables as keyword args: x, y. From version 0.12, the only valid positional argument will be `data`, and passing other arguments without an explicit keyword will result in an error or misinterpretation.\n",
      "  FutureWarning\n",
      "D:\\Application\\anaconda3\\envs\\game_theory\\lib\\site-packages\\seaborn\\_decorators.py:43: FutureWarning: Pass the following variables as keyword args: x, y. From version 0.12, the only valid positional argument will be `data`, and passing other arguments without an explicit keyword will result in an error or misinterpretation.\n",
      "  FutureWarning\n"
     ]
    },
    {
     "data": {
      "text/plain": "<Figure size 432x288 with 1 Axes>",
      "image/png": "[encoded data removed]"
     },
     "metadata": {
      "image/png": {
       "width": 430,
       "height": 281
      }
     },
     "output_type": "display_data"
    }
   ],
   "source": [
    "import seaborn as sns \n",
    "\n",
    "plt.style.use('fivethirtyeight')\n",
    "%config InlineBackend.figure_format = 'retina'\n",
    "%matplotlib inline\n",
    "\n",
    "sns.set(style = 'whitegrid')\n",
    "plt.title(\"Bio-DM-LC Dataset\")\n",
    "sns.lineplot([i for i in range(len(value_lambda_1[0]))] , value_lambda_1[0],  label=\"lambda 1\")\n",
    "sns.lineplot([i for i in range(len(value_lambda_point8[0]))] , value_lambda_point8[0],  label=\"lambda 0.8\")\n",
    " \n",
    "plt.xlabel(\"No. of iterations\")\n",
    "plt.ylabel(\"Modularity Value\")\n",
    "plt.legend() \n",
    "# plt.show()\n",
    "plt.savefig(\"Bio-DM-LC_2.svg\")"
   ]
  },
  {
   "cell_type": "markdown",
   "metadata": {},
   "source": [
    "# Enron Dataset"
   ]
  },
  {
   "cell_type": "code",
   "execution_count": 12,
   "metadata": {
    "execution": {
     "iopub.execute_input": "2021-08-23T11:08:10.444417Z",
     "iopub.status.busy": "2021-08-23T11:08:10.443962Z",
     "iopub.status.idle": "2021-08-23T11:08:10.473831Z",
     "shell.execute_reply": "2021-08-23T11:08:10.472678Z",
     "shell.execute_reply.started": "2021-08-23T11:08:10.444371Z"
    }
   },
   "outputs": [
    {
     "ename": "FileNotFoundError",
     "evalue": "[Errno 2] No such file or directory: '../input/enrondata/ia-enron-only.txt'",
     "output_type": "error",
     "traceback": [
      "\u001B[1;31m---------------------------------------------------------------------------\u001B[0m",
      "\u001B[1;31mFileNotFoundError\u001B[0m                         Traceback (most recent call last)",
      "\u001B[1;32m<ipython-input-12-4ddaab523637>\u001B[0m in \u001B[0;36m<module>\u001B[1;34m\u001B[0m\n\u001B[0;32m      4\u001B[0m \u001B[0ml1\u001B[0m \u001B[1;33m=\u001B[0m \u001B[1;33m[\u001B[0m\u001B[1;33m]\u001B[0m\u001B[1;33m\u001B[0m\u001B[1;33m\u001B[0m\u001B[0m\n\u001B[0;32m      5\u001B[0m \u001B[0ml2\u001B[0m \u001B[1;33m=\u001B[0m \u001B[1;33m[\u001B[0m\u001B[1;33m]\u001B[0m\u001B[1;33m\u001B[0m\u001B[1;33m\u001B[0m\u001B[0m\n\u001B[1;32m----> 6\u001B[1;33m \u001B[0mfile\u001B[0m \u001B[1;33m=\u001B[0m \u001B[0mopen\u001B[0m\u001B[1;33m(\u001B[0m\u001B[1;34m'../input/enrondata/ia-enron-only.txt'\u001B[0m\u001B[1;33m)\u001B[0m\u001B[1;33m\u001B[0m\u001B[1;33m\u001B[0m\u001B[0m\n\u001B[0m\u001B[0;32m      7\u001B[0m \u001B[1;33m\u001B[0m\u001B[0m\n\u001B[0;32m      8\u001B[0m \u001B[1;32mfor\u001B[0m \u001B[0mline\u001B[0m \u001B[1;32min\u001B[0m \u001B[0mfile\u001B[0m\u001B[1;33m:\u001B[0m\u001B[1;33m\u001B[0m\u001B[1;33m\u001B[0m\u001B[0m\n",
      "\u001B[1;31mFileNotFoundError\u001B[0m: [Errno 2] No such file or directory: '../input/enrondata/ia-enron-only.txt'"
     ]
    }
   ],
   "source": [
    "import networkx as nx\n",
    "import pandas as pd\n",
    "\n",
    "l1 = []\n",
    "l2 = []\n",
    "file = open('../input/enrondata/ia-enron-only.txt')\n",
    "\n",
    "for line in file:\n",
    "    l1.append(int(line.split()[0]))\n",
    "    l2.append(int(line.split()[1]))\n",
    "\n",
    "df = pd.DataFrame()\n",
    "df[1] = l1\n",
    "df[2] = l2\n",
    "\n",
    "G = nx.Graph()\n",
    "G = nx.from_pandas_edgelist(df, 1, 2)\n",
    "\n",
    "mapping  = {} \n",
    "i = 0\n",
    "for node in G.nodes:\n",
    "    mapping[node] = i\n",
    "    i += 1\n",
    "    \n",
    "    \n",
    "G=nx.relabel_nodes(G,mapping)\n",
    "\n",
    "print(nx.info(G))"
   ]
  },
  {
   "cell_type": "code",
   "execution_count": null,
   "metadata": {
    "execution": {
     "iopub.execute_input": "2021-08-23T11:08:10.479650Z",
     "iopub.status.busy": "2021-08-23T11:08:10.479290Z",
     "iopub.status.idle": "2021-08-23T11:08:10.523518Z",
     "shell.execute_reply": "2021-08-23T11:08:10.522236Z",
     "shell.execute_reply.started": "2021-08-23T11:08:10.479601Z"
    }
   },
   "outputs": [],
   "source": [
    "part = community.best_partition(G)\n",
    "community.modularity(part, G)"
   ]
  },
  {
   "cell_type": "code",
   "execution_count": null,
   "metadata": {
    "execution": {
     "iopub.execute_input": "2021-08-23T11:08:10.526174Z",
     "iopub.status.busy": "2021-08-23T11:08:10.525743Z",
     "iopub.status.idle": "2021-08-23T11:09:41.131136Z",
     "shell.execute_reply": "2021-08-23T11:09:41.129868Z",
     "shell.execute_reply.started": "2021-08-23T11:08:10.526128Z"
    }
   },
   "outputs": [],
   "source": [
    "from random import choice\n",
    "import random\n",
    "import numpy as np\n",
    "\n",
    "totalEdges = G.number_of_edges()\n",
    "totalNodes= G.number_of_nodes()\n",
    "A = nx.to_numpy_array(G)\n",
    "S = np.array([(\"C\" + str(i)) for i in range(G.number_of_nodes())])\n",
    "\n",
    "initial_S = np.array([(\"C\" + str(i)) for i in range(G.number_of_nodes())])\n",
    "nodesList = [node_k for node_k in range(G.number_of_nodes())]\n",
    "\n",
    "from numpy.random import choice\n",
    "probabilities = [float(1/(G.number_of_nodes()*1.0)) for i in range(G.number_of_nodes())]\n",
    "\n",
    "value_lambda_point2 = communityDetect(S,G,nIter = 1000,LAMBDA = 0.2)\n",
    "\n",
    "print('Partition Modularity = '+ str(partitionModularity(S,G)))"
   ]
  },
  {
   "cell_type": "code",
   "execution_count": null,
   "metadata": {
    "execution": {
     "iopub.execute_input": "2021-08-23T11:09:41.133503Z",
     "iopub.status.busy": "2021-08-23T11:09:41.133037Z",
     "iopub.status.idle": "2021-08-23T11:11:39.319515Z",
     "shell.execute_reply": "2021-08-23T11:11:39.318348Z",
     "shell.execute_reply.started": "2021-08-23T11:09:41.133456Z"
    }
   },
   "outputs": [],
   "source": [
    "from random import choice\n",
    "import random\n",
    "\n",
    "totalEdges = G.number_of_edges()\n",
    "totalNodes= G.number_of_nodes()\n",
    "A = nx.to_numpy_array(G)\n",
    "S = np.array([(\"C\" + str(i)) for i in range(G.number_of_nodes())])\n",
    "\n",
    "initial_S = np.array([(\"C\" + str(i)) for i in range(G.number_of_nodes())])\n",
    "nodesList = [node_k for node_k in range(G.number_of_nodes())]\n",
    "\n",
    "from numpy.random import choice\n",
    "probabilities = [float(1/(G.number_of_nodes()*1.0)) for i in range(G.number_of_nodes())]\n",
    "\n",
    "value_lambda_point8 = communityDetect(S,G,nIter = 1000,LAMBDA = 0.8)\n",
    "\n",
    "print('Partition Modularity = '+ str(partitionModularity(S,G)))"
   ]
  },
  {
   "cell_type": "code",
   "execution_count": null,
   "metadata": {
    "execution": {
     "iopub.execute_input": "2021-08-23T11:11:39.321101Z",
     "iopub.status.busy": "2021-08-23T11:11:39.320788Z",
     "iopub.status.idle": "2021-08-23T11:13:38.979193Z",
     "shell.execute_reply": "2021-08-23T11:13:38.978022Z",
     "shell.execute_reply.started": "2021-08-23T11:11:39.321070Z"
    }
   },
   "outputs": [],
   "source": [
    "from random import choice\n",
    "import random\n",
    "\n",
    "totalEdges = G.number_of_edges()\n",
    "totalNodes= G.number_of_nodes()\n",
    "A = nx.to_numpy_array(G)\n",
    "S = np.array([(\"C\" + str(i)) for i in range(G.number_of_nodes())])\n",
    "\n",
    "initial_S = np.array([(\"C\" + str(i)) for i in range(G.number_of_nodes())])\n",
    "nodesList = [node_k for node_k in range(G.number_of_nodes())]\n",
    "\n",
    "from numpy.random import choice\n",
    "probabilities = [float(1/(G.number_of_nodes()*1.0)) for i in range(G.number_of_nodes())]\n",
    "\n",
    "value_lambda_1 = communityDetect(S,G,nIter = 1000,LAMBDA = 1)\n",
    "\n",
    "print('Partition Modularity = '+ str(partitionModularity(S,G)))"
   ]
  },
  {
   "cell_type": "code",
   "execution_count": null,
   "metadata": {
    "execution": {
     "iopub.execute_input": "2021-08-23T11:13:38.981357Z",
     "iopub.status.busy": "2021-08-23T11:13:38.980918Z",
     "iopub.status.idle": "2021-08-23T11:13:39.774068Z",
     "shell.execute_reply": "2021-08-23T11:13:39.772760Z",
     "shell.execute_reply.started": "2021-08-23T11:13:38.981311Z"
    }
   },
   "outputs": [],
   "source": [
    "import seaborn as sns \n",
    "\n",
    "plt.style.use('fivethirtyeight')\n",
    "%config InlineBackend.figure_format = 'retina'\n",
    "%matplotlib inline\n",
    "\n",
    "sns.set(style = 'whitegrid')\n",
    "plt.title(\"Enron Dataset\")\n",
    "sns.lineplot([i for i in range(len(value_lambda_point2[0]))] , value_lambda_point2[0],  label=\"lambda 0.2\")\n",
    "sns.lineplot([i for i in range(len(value_lambda_point8[0]))] , value_lambda_point8[0],  label=\"lambda 0.8\")\n",
    " \n",
    "plt.xlabel(\"No. of iterations\")\n",
    "plt.ylabel(\"Modularity Value\")\n",
    "plt.legend() \n",
    "# plt.show()\n",
    "plt.savefig(\"Enron_1.svg\")"
   ]
  },
  {
   "cell_type": "code",
   "execution_count": null,
   "metadata": {
    "execution": {
     "iopub.execute_input": "2021-08-23T11:13:39.776595Z",
     "iopub.status.busy": "2021-08-23T11:13:39.776100Z",
     "iopub.status.idle": "2021-08-23T11:13:40.516799Z",
     "shell.execute_reply": "2021-08-23T11:13:40.515897Z",
     "shell.execute_reply.started": "2021-08-23T11:13:39.776539Z"
    },
    "scrolled": true
   },
   "outputs": [],
   "source": [
    "import seaborn as sns \n",
    "\n",
    "plt.style.use('fivethirtyeight')\n",
    "%config InlineBackend.figure_format = 'retina'\n",
    "%matplotlib inline\n",
    "\n",
    "sns.set(style = 'whitegrid')\n",
    "plt.title(\"Enron Dataset\")\n",
    "sns.lineplot([i for i in range(len(value_lambda_1[0]))] , value_lambda_1[0],  label=\"lambda 1\")\n",
    "sns.lineplot([i for i in range(len(value_lambda_point8[0]))] , value_lambda_point8[0],  label=\"lambda 0.8\")\n",
    " \n",
    "plt.xlabel(\"No. of iterations\")\n",
    "plt.ylabel(\"Modularity Value\")\n",
    "plt.legend() \n",
    "# plt.show()\n",
    "plt.savefig(\"Enron_2.svg\")"
   ]
  },
  {
   "cell_type": "markdown",
   "metadata": {},
   "source": [
    "# Econ wm1 dataset"
   ]
  },
  {
   "cell_type": "code",
   "execution_count": null,
   "metadata": {
    "execution": {
     "iopub.execute_input": "2021-08-23T11:13:40.518648Z",
     "iopub.status.busy": "2021-08-23T11:13:40.518322Z",
     "iopub.status.idle": "2021-08-23T11:13:40.564826Z",
     "shell.execute_reply": "2021-08-23T11:13:40.563850Z",
     "shell.execute_reply.started": "2021-08-23T11:13:40.518596Z"
    }
   },
   "outputs": [],
   "source": [
    "import networkx as nx\n",
    "import pandas as pd\n",
    "\n",
    "l1 = []\n",
    "l2 = []\n",
    "file = open('../input/econwm1/econ-wm1.txt')\n",
    "\n",
    "for line in file:\n",
    "    l1.append(int(line.split()[0]))\n",
    "    l2.append(int(line.split()[1]))\n",
    "\n",
    "df = pd.DataFrame()\n",
    "df[1] = l1\n",
    "df[2] = l2\n",
    "\n",
    "G = nx.Graph()\n",
    "G = nx.from_pandas_edgelist(df, 1, 2)\n",
    "\n",
    "mapping  = {} \n",
    "i = 0\n",
    "for node in G.nodes:\n",
    "    mapping[node] = i\n",
    "    i += 1\n",
    "    \n",
    "    \n",
    "G=nx.relabel_nodes(G,mapping)\n",
    "\n",
    "print(nx.info(G))"
   ]
  },
  {
   "cell_type": "code",
   "execution_count": null,
   "metadata": {
    "execution": {
     "iopub.execute_input": "2021-08-23T11:13:40.566808Z",
     "iopub.status.busy": "2021-08-23T11:13:40.566460Z",
     "iopub.status.idle": "2021-08-23T11:13:40.700809Z",
     "shell.execute_reply": "2021-08-23T11:13:40.699799Z",
     "shell.execute_reply.started": "2021-08-23T11:13:40.566775Z"
    }
   },
   "outputs": [],
   "source": [
    "part = community.best_partition(G)\n",
    "community.modularity(part, G)"
   ]
  },
  {
   "cell_type": "code",
   "execution_count": null,
   "metadata": {
    "execution": {
     "iopub.execute_input": "2021-08-23T11:13:40.702434Z",
     "iopub.status.busy": "2021-08-23T11:13:40.702121Z",
     "iopub.status.idle": "2021-08-23T11:19:43.262233Z",
     "shell.execute_reply": "2021-08-23T11:19:43.261029Z",
     "shell.execute_reply.started": "2021-08-23T11:13:40.702404Z"
    }
   },
   "outputs": [],
   "source": [
    "from random import choice\n",
    "import random\n",
    "import numpy as np\n",
    "\n",
    "totalEdges = G.number_of_edges()\n",
    "totalNodes= G.number_of_nodes()\n",
    "A = nx.to_numpy_array(G)\n",
    "S = np.array([(\"C\" + str(i)) for i in range(G.number_of_nodes())])\n",
    "\n",
    "initial_S = np.array([(\"C\" + str(i)) for i in range(G.number_of_nodes())])\n",
    "nodesList = [node_k for node_k in range(G.number_of_nodes())]\n",
    "\n",
    "from numpy.random import choice\n",
    "probabilities = [float(1/(G.number_of_nodes()*1.0)) for i in range(G.number_of_nodes())]\n",
    "\n",
    "value_lambda_point2 = communityDetect(S,G,nIter = 600,LAMBDA = 0.2)\n",
    "\n",
    "print('Partition Modularity = '+ str(partitionModularity(S,G)))"
   ]
  },
  {
   "cell_type": "code",
   "execution_count": null,
   "metadata": {
    "execution": {
     "iopub.execute_input": "2021-08-23T11:19:43.264091Z",
     "iopub.status.busy": "2021-08-23T11:19:43.263774Z",
     "iopub.status.idle": "2021-08-23T11:22:11.942843Z",
     "shell.execute_reply": "2021-08-23T11:22:11.941676Z",
     "shell.execute_reply.started": "2021-08-23T11:19:43.264059Z"
    }
   },
   "outputs": [],
   "source": [
    "%%time\n",
    "from random import choice\n",
    "import random\n",
    "\n",
    "totalEdges = G.number_of_edges()\n",
    "totalNodes= G.number_of_nodes()\n",
    "A = nx.to_numpy_array(G)\n",
    "S = np.array([(\"C\" + str(i)) for i in range(G.number_of_nodes())])\n",
    "\n",
    "initial_S = np.array([(\"C\" + str(i)) for i in range(G.number_of_nodes())])\n",
    "nodesList = [node_k for node_k in range(G.number_of_nodes())]\n",
    "\n",
    "from numpy.random import choice\n",
    "probabilities = [float(1/(G.number_of_nodes()*1.0)) for i in range(G.number_of_nodes())]\n",
    "\n",
    "value_lambda_point8 = communityDetect(S,G,nIter = 600,LAMBDA = 0.8)\n",
    "\n",
    "print('Partition Modularity = '+ str(partitionModularity(S,G)))"
   ]
  },
  {
   "cell_type": "code",
   "execution_count": null,
   "metadata": {
    "execution": {
     "iopub.execute_input": "2021-08-23T11:22:11.945060Z",
     "iopub.status.busy": "2021-08-23T11:22:11.944598Z",
     "iopub.status.idle": "2021-08-23T11:24:23.715368Z",
     "shell.execute_reply": "2021-08-23T11:24:23.714274Z",
     "shell.execute_reply.started": "2021-08-23T11:22:11.945012Z"
    }
   },
   "outputs": [],
   "source": [
    "from random import choice\n",
    "import random\n",
    "\n",
    "totalEdges = G.number_of_edges()\n",
    "totalNodes= G.number_of_nodes()\n",
    "A = nx.to_numpy_array(G)\n",
    "S = np.array([(\"C\" + str(i)) for i in range(G.number_of_nodes())])\n",
    "\n",
    "initial_S = np.array([(\"C\" + str(i)) for i in range(G.number_of_nodes())])\n",
    "nodesList = [node_k for node_k in range(G.number_of_nodes())]\n",
    "\n",
    "from numpy.random import choice\n",
    "probabilities = [float(1/(G.number_of_nodes()*1.0)) for i in range(G.number_of_nodes())]\n",
    "\n",
    "value_lambda_1 = communityDetect(S,G,nIter = 600,LAMBDA = 1)\n",
    "\n",
    "print('Partition Modularity = '+ str(partitionModularity(S,G)))"
   ]
  },
  {
   "cell_type": "code",
   "execution_count": null,
   "metadata": {
    "execution": {
     "iopub.execute_input": "2021-08-23T11:24:23.717176Z",
     "iopub.status.busy": "2021-08-23T11:24:23.716852Z",
     "iopub.status.idle": "2021-08-23T11:24:24.364663Z",
     "shell.execute_reply": "2021-08-23T11:24:24.363701Z",
     "shell.execute_reply.started": "2021-08-23T11:24:23.717145Z"
    },
    "scrolled": true
   },
   "outputs": [],
   "source": [
    "import seaborn as sns \n",
    "\n",
    "plt.style.use('fivethirtyeight')\n",
    "%config InlineBackend.figure_format = 'retina'\n",
    "%matplotlib inline\n",
    "\n",
    "sns.set(style = 'whitegrid')\n",
    "plt.title(\"Econ-wm1 Dataset\")\n",
    "sns.lineplot([i for i in range(len(value_lambda_point2[0]))] , value_lambda_point2[0],  label=\"lambda 0.2\")\n",
    "sns.lineplot([i for i in range(len(value_lambda_point8[0]))] , value_lambda_point8[0],  label=\"lambda 0.8\")\n",
    " \n",
    "plt.xlabel(\"No. of iterations\")\n",
    "plt.ylabel(\"Modularity Value\")\n",
    "plt.legend() \n",
    "# plt.show()\n",
    "plt.savefig(\"Econ_1.svg\")"
   ]
  },
  {
   "cell_type": "code",
   "execution_count": null,
   "metadata": {
    "execution": {
     "iopub.execute_input": "2021-08-23T11:24:24.366865Z",
     "iopub.status.busy": "2021-08-23T11:24:24.366419Z",
     "iopub.status.idle": "2021-08-23T11:24:25.206842Z",
     "shell.execute_reply": "2021-08-23T11:24:25.206002Z",
     "shell.execute_reply.started": "2021-08-23T11:24:24.366813Z"
    }
   },
   "outputs": [],
   "source": [
    "import seaborn as sns \n",
    "\n",
    "plt.style.use('fivethirtyeight')\n",
    "%config InlineBackend.figure_format = 'retina'\n",
    "%matplotlib inline\n",
    "\n",
    "sns.set(style = 'whitegrid')\n",
    "plt.title(\"Econ-wm1 Dataset\")\n",
    "sns.lineplot([i for i in range(len(value_lambda_1[0]))] , value_lambda_1[0],  label=\"lambda 1\")\n",
    "sns.lineplot([i for i in range(len(value_lambda_point8[0]))] , value_lambda_point8[0],  label=\"lambda 0.8\")\n",
    " \n",
    "plt.xlabel(\"No. of iterations\")\n",
    "plt.ylabel(\"Modularity Value\")\n",
    "plt.legend() \n",
    "# plt.show()\n",
    "plt.savefig(\"Econ_2.svg\")"
   ]
  },
  {
   "cell_type": "markdown",
   "metadata": {},
   "source": [
    "# Fb Food Dataset"
   ]
  },
  {
   "cell_type": "code",
   "execution_count": null,
   "metadata": {
    "execution": {
     "iopub.execute_input": "2021-08-23T11:24:25.208421Z",
     "iopub.status.busy": "2021-08-23T11:24:25.208149Z",
     "iopub.status.idle": "2021-08-23T11:24:25.248879Z",
     "shell.execute_reply": "2021-08-23T11:24:25.247866Z",
     "shell.execute_reply.started": "2021-08-23T11:24:25.208395Z"
    }
   },
   "outputs": [],
   "source": [
    "import networkx as nx\n",
    "import pandas as pd\n",
    "\n",
    "l1 = []\n",
    "l2 = []\n",
    "file = open('../input/fbpagesfood/fb-pages-food.txt')\n",
    "\n",
    "for line in file:\n",
    "    l1.append(int(line.split(',')[0]))\n",
    "    l2.append(int(line.split(',')[1]))\n",
    "\n",
    "df = pd.DataFrame()\n",
    "df[1] = l1\n",
    "df[2] = l2\n",
    "\n",
    "G = nx.Graph()\n",
    "G = nx.from_pandas_edgelist(df, 1, 2)\n",
    "\n",
    "mapping  = {} \n",
    "i = 0\n",
    "for node in G.nodes:\n",
    "    mapping[node] = i\n",
    "    i += 1\n",
    "    \n",
    "    \n",
    "G=nx.relabel_nodes(G,mapping)\n",
    "\n",
    "print(nx.info(G))"
   ]
  },
  {
   "cell_type": "code",
   "execution_count": null,
   "metadata": {
    "execution": {
     "iopub.execute_input": "2021-08-23T11:24:25.250321Z",
     "iopub.status.busy": "2021-08-23T11:24:25.250044Z",
     "iopub.status.idle": "2021-08-23T11:24:25.402617Z",
     "shell.execute_reply": "2021-08-23T11:24:25.401630Z",
     "shell.execute_reply.started": "2021-08-23T11:24:25.250294Z"
    }
   },
   "outputs": [],
   "source": [
    "part = community.best_partition(G)\n",
    "community.modularity(part, G)"
   ]
  },
  {
   "cell_type": "code",
   "execution_count": null,
   "metadata": {
    "execution": {
     "iopub.execute_input": "2021-08-23T11:24:25.404204Z",
     "iopub.status.busy": "2021-08-23T11:24:25.403908Z",
     "iopub.status.idle": "2021-08-23T11:30:31.489958Z",
     "shell.execute_reply": "2021-08-23T11:30:31.488699Z",
     "shell.execute_reply.started": "2021-08-23T11:24:25.404175Z"
    }
   },
   "outputs": [],
   "source": [
    "from random import choice\n",
    "import random\n",
    "import numpy as np\n",
    "\n",
    "totalEdges = G.number_of_edges()\n",
    "totalNodes= G.number_of_nodes()\n",
    "A = nx.to_numpy_array(G)\n",
    "S = np.array([(\"C\" + str(i)) for i in range(G.number_of_nodes())])\n",
    "\n",
    "initial_S = np.array([(\"C\" + str(i)) for i in range(G.number_of_nodes())])\n",
    "nodesList = [node_k for node_k in range(G.number_of_nodes())]\n",
    "\n",
    "from numpy.random import choice\n",
    "probabilities = [float(1/(G.number_of_nodes()*1.0)) for i in range(G.number_of_nodes())]\n",
    "\n",
    "value_lambda_point2 = communityDetect(S,G,nIter = 1000,LAMBDA = 0.2)\n",
    "\n",
    "print('Partition Modularity = '+ str(partitionModularity(S,G)))"
   ]
  },
  {
   "cell_type": "code",
   "execution_count": null,
   "metadata": {
    "execution": {
     "iopub.execute_input": "2021-08-23T11:30:31.492127Z",
     "iopub.status.busy": "2021-08-23T11:30:31.491680Z",
     "iopub.status.idle": "2021-08-23T11:38:33.387548Z",
     "shell.execute_reply": "2021-08-23T11:38:33.386477Z",
     "shell.execute_reply.started": "2021-08-23T11:30:31.492080Z"
    }
   },
   "outputs": [],
   "source": [
    "%%time\n",
    "from random import choice\n",
    "import random\n",
    "\n",
    "totalEdges = G.number_of_edges()\n",
    "totalNodes= G.number_of_nodes()\n",
    "A = nx.to_numpy_array(G)\n",
    "S = np.array([(\"C\" + str(i)) for i in range(G.number_of_nodes())])\n",
    "\n",
    "initial_S = np.array([(\"C\" + str(i)) for i in range(G.number_of_nodes())])\n",
    "nodesList = [node_k for node_k in range(G.number_of_nodes())]\n",
    "\n",
    "from numpy.random import choice\n",
    "probabilities = [float(1/(G.number_of_nodes()*1.0)) for i in range(G.number_of_nodes())]\n",
    "\n",
    "value_lambda_point8 = communityDetect(S,G,nIter = 1000,LAMBDA = 0.8)\n",
    "\n",
    "print('Partition Modularity = '+ str(partitionModularity(S,G)))"
   ]
  },
  {
   "cell_type": "code",
   "execution_count": null,
   "metadata": {
    "execution": {
     "iopub.execute_input": "2021-08-23T11:38:33.389299Z",
     "iopub.status.busy": "2021-08-23T11:38:33.388992Z",
     "iopub.status.idle": "2021-08-23T11:52:11.199519Z",
     "shell.execute_reply": "2021-08-23T11:52:11.198014Z",
     "shell.execute_reply.started": "2021-08-23T11:38:33.389250Z"
    }
   },
   "outputs": [],
   "source": [
    "from random import choice\n",
    "import random\n",
    "\n",
    "totalEdges = G.number_of_edges()\n",
    "totalNodes= G.number_of_nodes()\n",
    "A = nx.to_numpy_array(G)\n",
    "S = np.array([(\"C\" + str(i)) for i in range(G.number_of_nodes())])\n",
    "\n",
    "initial_S = np.array([(\"C\" + str(i)) for i in range(G.number_of_nodes())])\n",
    "nodesList = [node_k for node_k in range(G.number_of_nodes())]\n",
    "\n",
    "from numpy.random import choice\n",
    "probabilities = [float(1/(G.number_of_nodes()*1.0)) for i in range(G.number_of_nodes())]\n",
    "\n",
    "value_lambda_1 = communityDetect(S,G,nIter = 1000,LAMBDA = 1)\n",
    "\n",
    "print('Partition Modularity = '+ str(partitionModularity(S,G)))"
   ]
  },
  {
   "cell_type": "code",
   "execution_count": null,
   "metadata": {
    "execution": {
     "iopub.execute_input": "2021-08-23T11:52:11.202737Z",
     "iopub.status.busy": "2021-08-23T11:52:11.202231Z",
     "iopub.status.idle": "2021-08-23T11:52:11.971562Z",
     "shell.execute_reply": "2021-08-23T11:52:11.970413Z",
     "shell.execute_reply.started": "2021-08-23T11:52:11.202678Z"
    }
   },
   "outputs": [],
   "source": [
    "import seaborn as sns \n",
    "\n",
    "plt.style.use('fivethirtyeight')\n",
    "%config InlineBackend.figure_format = 'retina'\n",
    "%matplotlib inline\n",
    "\n",
    "sns.set(style = 'whitegrid')\n",
    "plt.title(\"Fb-food Dataset\")\n",
    "sns.lineplot([i for i in range(len(value_lambda_point2[0]))] , value_lambda_point2[0],  label=\"lambda 0.2\")\n",
    "sns.lineplot([i for i in range(len(value_lambda_point8[0]))] , value_lambda_point8[0],  label=\"lambda 0.8\")\n",
    " \n",
    "plt.xlabel(\"No. of iterations\")\n",
    "plt.ylabel(\"Modularity Value\")\n",
    "plt.legend() \n",
    "# plt.show()\n",
    "plt.savefig(\"Fb-food_1.svg\")"
   ]
  },
  {
   "cell_type": "code",
   "execution_count": null,
   "metadata": {
    "execution": {
     "iopub.execute_input": "2021-08-23T11:52:11.973997Z",
     "iopub.status.busy": "2021-08-23T11:52:11.973527Z",
     "iopub.status.idle": "2021-08-23T11:52:12.737712Z",
     "shell.execute_reply": "2021-08-23T11:52:12.736538Z",
     "shell.execute_reply.started": "2021-08-23T11:52:11.973951Z"
    }
   },
   "outputs": [],
   "source": [
    "import seaborn as sns \n",
    "\n",
    "plt.style.use('fivethirtyeight')\n",
    "%config InlineBackend.figure_format = 'retina'\n",
    "%matplotlib inline\n",
    "\n",
    "sns.set(style = 'whitegrid')\n",
    "plt.title(\"Fb-food Dataset\")\n",
    "sns.lineplot([i for i in range(len(value_lambda_1[0]))] , value_lambda_1[0],  label=\"lambda 1\")\n",
    "sns.lineplot([i for i in range(len(value_lambda_point8[0]))] , value_lambda_point8[0],  label=\"lambda 0.8\")\n",
    " \n",
    "plt.xlabel(\"No. of iterations\")\n",
    "plt.ylabel(\"Modularity Value\")\n",
    "plt.legend() \n",
    "# plt.show()\n",
    "plt.savefig(\"Fb-food_2.svg\")"
   ]
  },
  {
   "cell_type": "code",
   "execution_count": null,
   "metadata": {},
   "outputs": [],
   "source": []
  }
 ],
 "metadata": {
  "kernelspec": {
   "display_name": "Python 3 (ipykernel)",
   "language": "python",
   "name": "python3"
  },
  "language_info": {
   "codemirror_mode": {
    "name": "ipython",
    "version": 3
   },
   "file_extension": ".py",
   "mimetype": "text/x-python",
   "name": "python",
   "nbconvert_exporter": "python",
   "pygments_lexer": "ipython3",
   "version": "3.10.9"
  },
  "toc": {
   "base_numbering": 1,
   "nav_menu": {},
   "number_sections": true,
   "sideBar": true,
   "skip_h1_title": false,
   "title_cell": "Table of Contents",
   "title_sidebar": "Contents",
   "toc_cell": false,
   "toc_position": {},
   "toc_section_display": true,
   "toc_window_display": false
  }
 },
 "nbformat": 4,
 "nbformat_minor": 4
}
